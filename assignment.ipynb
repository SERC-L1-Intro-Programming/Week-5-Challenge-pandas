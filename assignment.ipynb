{
 "cells": [
  {
   "attachments": {},
   "cell_type": "markdown",
   "metadata": {},
   "source": [
    "# Challenge: Cleaning Data from a Form\n",
    "\n",
    "A SERC student has been testing a small web form to gather some basic data about students' pet preferences. They want to be able to tell which pet is favourite per campus. They have brought their findings to you to validate the data they have gathered.\n",
    "\n",
    "You have been provided a [dataset of csv records](form.csv) that contain entries from the form as well as some basic visualizations. The student pointed out that some of the visualizations look incorrect but they're unsure about how to resolve them. You can explore it in the [assignment notebook](assignment.ipynb). [^1]\n",
    "\n",
    "## Instructions\n",
    "\n",
    "1. Update the [assignment notebook](assignment.ipynb) to clean the data and create the visualizations.\n",
    "2. Add an additional cell to the [assignment notebook](assignment.ipynb) that will save the cleaned data to a new csv file called `form_cleaned.csv`.\n",
    "\n",
    "### Additional\n",
    "\n",
    "Add a visualization that shows the favourite pet per campus.\n",
    "\n",
    "[^1]: Based on assignment from https://github.com/microsoft/Data-Science-For-Beginners/tree/main/2-Working-With-Data/08-data-preparation"
   ]
  },
  {
   "cell_type": "code",
   "execution_count": null,
   "metadata": {},
   "outputs": [],
   "source": [
    "%pip install pandas\n",
    "%pip install matplotlib"
   ]
  },
  {
   "cell_type": "code",
   "execution_count": null,
   "metadata": {},
   "outputs": [],
   "source": [
    "import pandas as pd\n",
    "import matplotlib.pyplot as plt\n",
    "\n",
    "#Loading the dataset\n",
    "path = './form.csv'\n",
    "form_df = pd.read_csv(path)\n",
    "print(form_df)"
   ]
  },
  {
   "cell_type": "code",
   "execution_count": null,
   "metadata": {},
   "outputs": [],
   "source": [
    "form_df['campus'].value_counts().plot(kind='bar')\n",
    "plt.show()"
   ]
  },
  {
   "cell_type": "code",
   "execution_count": null,
   "metadata": {},
   "outputs": [],
   "source": [
    "form_df['birth_month'].value_counts().plot(kind='bar')\n",
    "plt.show()"
   ]
  },
  {
   "cell_type": "code",
   "execution_count": null,
   "metadata": {},
   "outputs": [],
   "source": [
    "# save cleaned data to csv"
   ]
  }
 ],
 "metadata": {
  "kernelspec": {
   "display_name": "Python 3",
   "language": "python",
   "name": "python3"
  },
  "language_info": {
   "codemirror_mode": {
    "name": "ipython",
    "version": 3
   },
   "file_extension": ".py",
   "mimetype": "text/x-python",
   "name": "python",
   "nbconvert_exporter": "python",
   "pygments_lexer": "ipython3",
   "version": "3.11.6"
  },
  "orig_nbformat": 4
 },
 "nbformat": 4,
 "nbformat_minor": 2
}
